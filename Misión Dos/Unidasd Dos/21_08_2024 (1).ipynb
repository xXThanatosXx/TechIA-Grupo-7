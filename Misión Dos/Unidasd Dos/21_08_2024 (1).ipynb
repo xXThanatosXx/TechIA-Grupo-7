{
  "nbformat": 4,
  "nbformat_minor": 0,
  "metadata": {
    "colab": {
      "provenance": []
    },
    "kernelspec": {
      "name": "python3",
      "display_name": "Python 3"
    },
    "language_info": {
      "name": "python"
    }
  },
  "cells": [
    {
      "cell_type": "markdown",
      "source": [
        "# Condicionales"
      ],
      "metadata": {
        "id": "L6WLepYyiHBN"
      }
    },
    {
      "cell_type": "code",
      "execution_count": null,
      "metadata": {
        "colab": {
          "base_uri": "https://localhost:8080/"
        },
        "id": "GqrJ-DEPhYrq",
        "outputId": "12f9d64d-9055-4dc8-8e41-950a1159bb94"
      },
      "outputs": [
        {
          "output_type": "stream",
          "name": "stdout",
          "text": [
            "Digite su edad en años: 75\n",
            "YA NO PUEDE CONDUCIR\n"
          ]
        }
      ],
      "source": [
        "edad = int(input(\"Digite su edad en años: \"))\n",
        "\n",
        "if edad <= 16:\n",
        "  print(\"Todavia no puede conducir\")\n",
        "elif edad < 18:\n",
        "  print(\"Puede obtener el permiso para conducir B2 y C1\")\n",
        "elif edad <=70:\n",
        "  print(\"Puede obtener la licencia clase B2\")\n",
        "elif edad > 70 and edad <75:\n",
        "  print(\"Solo puede renova la licencia B2\")\n",
        "else:\n",
        "  print(\"YA NO PUEDE CONDUCIR\")"
      ]
    },
    {
      "cell_type": "code",
      "source": [
        "import numpy as np\n",
        "\n",
        "x = np.array([0,1,2,3])\n"
      ],
      "metadata": {
        "id": "QRc7lKPwmrfS"
      },
      "execution_count": null,
      "outputs": []
    },
    {
      "cell_type": "markdown",
      "source": [
        "# Bucles (FOR, WHILE)"
      ],
      "metadata": {
        "id": "Qk37Wk4Tnmzy"
      }
    },
    {
      "cell_type": "code",
      "source": [
        "lista = \"Me encanta programar\"\n",
        "x = [0,1,2,3]\n",
        "\n",
        "for i in x:\n",
        "  print(i)\n",
        "\n",
        "\n",
        "\n"
      ],
      "metadata": {
        "colab": {
          "base_uri": "https://localhost:8080/"
        },
        "id": "o7p_pfvRm5x2",
        "outputId": "6bbb4528-0c75-4d3b-fd06-b828a95b6f5b"
      },
      "execution_count": null,
      "outputs": [
        {
          "output_type": "stream",
          "name": "stdout",
          "text": [
            "0\n",
            "1\n",
            "2\n",
            "3\n"
          ]
        }
      ]
    },
    {
      "cell_type": "code",
      "source": [
        "for i in range(10):\n",
        "  print(f\"el exponente de i: {i} es {i**2} y la suma de i es {i+i}\")\n",
        "\n"
      ],
      "metadata": {
        "colab": {
          "base_uri": "https://localhost:8080/"
        },
        "id": "IIRDj5mbrZoZ",
        "outputId": "50b0750c-e734-4323-e951-644971842960"
      },
      "execution_count": null,
      "outputs": [
        {
          "output_type": "stream",
          "name": "stdout",
          "text": [
            "el exponente de i: 0 es 0 y la suma de i es 0\n",
            "el exponente de i: 1 es 1 y la suma de i es 2\n",
            "el exponente de i: 2 es 4 y la suma de i es 4\n",
            "el exponente de i: 3 es 9 y la suma de i es 6\n",
            "el exponente de i: 4 es 16 y la suma de i es 8\n",
            "el exponente de i: 5 es 25 y la suma de i es 10\n",
            "el exponente de i: 6 es 36 y la suma de i es 12\n",
            "el exponente de i: 7 es 49 y la suma de i es 14\n",
            "el exponente de i: 8 es 64 y la suma de i es 16\n",
            "el exponente de i: 9 es 81 y la suma de i es 18\n"
          ]
        }
      ]
    },
    {
      "cell_type": "code",
      "source": [
        "for i in range(4,10):\n",
        "  print(f\"el exponente de i: {i} es {i**2} y la suma de i es {i+i}\")\n"
      ],
      "metadata": {
        "colab": {
          "base_uri": "https://localhost:8080/"
        },
        "id": "c6BlYyoAtRI8",
        "outputId": "83549864-827a-4d04-e727-ded50246da9e"
      },
      "execution_count": null,
      "outputs": [
        {
          "output_type": "stream",
          "name": "stdout",
          "text": [
            "el exponente de i: 4 es 16 y la suma de i es 8\n",
            "el exponente de i: 5 es 25 y la suma de i es 10\n",
            "el exponente de i: 6 es 36 y la suma de i es 12\n",
            "el exponente de i: 7 es 49 y la suma de i es 14\n",
            "el exponente de i: 8 es 64 y la suma de i es 16\n",
            "el exponente de i: 9 es 81 y la suma de i es 18\n"
          ]
        }
      ]
    },
    {
      "cell_type": "code",
      "source": [
        "for i in range(0,10,1):\n",
        "  print(f\"el exponente de i: {i} es {i**2} y la suma de i es {i+i}\")\n",
        "\n"
      ],
      "metadata": {
        "colab": {
          "base_uri": "https://localhost:8080/"
        },
        "id": "0RR9-cXNuNGJ",
        "outputId": "229544ae-9390-4581-9978-9b2477cbd0dd"
      },
      "execution_count": null,
      "outputs": [
        {
          "output_type": "stream",
          "name": "stdout",
          "text": [
            "el exponente de i: 0 es 0 y la suma de i es 0\n",
            "el exponente de i: 1 es 1 y la suma de i es 2\n",
            "el exponente de i: 2 es 4 y la suma de i es 4\n",
            "el exponente de i: 3 es 9 y la suma de i es 6\n",
            "el exponente de i: 4 es 16 y la suma de i es 8\n",
            "el exponente de i: 5 es 25 y la suma de i es 10\n",
            "el exponente de i: 6 es 36 y la suma de i es 12\n",
            "el exponente de i: 7 es 49 y la suma de i es 14\n",
            "el exponente de i: 8 es 64 y la suma de i es 16\n",
            "el exponente de i: 9 es 81 y la suma de i es 18\n"
          ]
        }
      ]
    },
    {
      "cell_type": "markdown",
      "source": [
        "# While"
      ],
      "metadata": {
        "id": "5rRnjSP4yPAc"
      }
    },
    {
      "cell_type": "code",
      "source": [
        "a = 0\n",
        "\n",
        "while a < 10:\n",
        "  print(a)\n",
        "  a = 10+1\n",
        "print(\"El bucle ha finalizado\")\n"
      ],
      "metadata": {
        "colab": {
          "base_uri": "https://localhost:8080/"
        },
        "id": "twT5r9IuyOdh",
        "outputId": "4c217945-3fdb-4692-9908-0e9c44af9462"
      },
      "execution_count": 4,
      "outputs": [
        {
          "output_type": "stream",
          "name": "stdout",
          "text": [
            "0\n",
            "El bucle ha finalizado\n"
          ]
        }
      ]
    }
  ]
}